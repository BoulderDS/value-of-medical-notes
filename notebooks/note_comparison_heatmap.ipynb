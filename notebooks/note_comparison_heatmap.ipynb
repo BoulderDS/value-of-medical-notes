{
 "cells": [
  {
   "cell_type": "code",
   "execution_count": 12,
   "metadata": {},
   "outputs": [],
   "source": [
    "import warnings\n",
    "warnings.filterwarnings(\"ignore\")\n",
    "import pandas as pd\n",
    "import os\n",
    "import sys\n",
    "from sklearn.metrics import roc_auc_score, average_precision_score\n",
    "import matplotlib.pyplot as plt\n",
    "import numpy as np\n",
    "import seaborn as sns\n",
    "sns.set(font_scale=2.5, rc={\n",
    "    \"lines.linewidth\": 2,\n",
    "    \"lines.markersize\":20,\n",
    "    \"ps.useafm\": True,\n",
    "    \"font.sans-serif\": [\"Helvetica\"],\n",
    "    \"pdf.use14corefonts\" : True,\n",
    "    \"text.usetex\": True,\n",
    "    })\n",
    "\n",
    "note2id = {'Nursing/other': 900001, 'Physician': 900002, 'Nutrition': 900003, 'General': 900004, 'Nursing': 900005, 'Respiratory ': 900006,'Rehab Services': 900007, 'Social Work': 900008, 'Echo': 900010,'ECG': 900011,'Case Management ': 900012,'Pharmacy': 900013,'Consult': 900014, 'Radiology': 900015, 'Discharge summary': 900016}\n",
    "\n",
    "DATA_DIR = \"/data/test_mimic_output/\"\n",
    "BASE_DIR = \"/home/joe/value-of-medical-notes/\""
   ]
  },
  {
   "cell_type": "code",
   "execution_count": 27,
   "metadata": {},
   "outputs": [],
   "source": [
    "import functools\n",
    "\n",
    "def _get_pairwise_results(task, note, period, segment):\n",
    "    feature_used=\"notes\"\n",
    "    model_name = task+'_'+note +'_'+ period + '.csv'\n",
    "    if feature_used == \"all\":\n",
    "        model_name = \"feature_text_\" + model_name\n",
    "    elif feature_used == \"all_but_notes\":\n",
    "        model_name = \"feature_\" + model_name\n",
    "    else:\n",
    "        model_name = \"text_\" + model_name\n",
    "    if segment:\n",
    "        model_name = str(segment) + \"_\" + model_name\n",
    "    results = pd.read_csv(f'{BASE_DIR}/models/logistic_regression/compare_notes_pairwise/{model_name}')\n",
    "    return results\n",
    "def get_pairwise_results(task, note, period):\n",
    "    results = []\n",
    "    for i in range(10):\n",
    "        res = _get_pairwise_results(task, note, period, str(i))\n",
    "        results.append(res)\n",
    "    sum_result = functools.reduce(lambda a,b:a+b, results)\n",
    "    mean_result = sum_result/10\n",
    "    return mean_result\n",
    "\n",
    "def plot_save_pairwise_heatmap(task, note, vmin=None, vmax=None):\n",
    "    period = \"24\" if task == \"mortality\" else \"retro\" \n",
    "    \n",
    "    if task == \"readmission\":\n",
    "        notes = [\"Nursing/other\", \"Radiology\", \"ECG\", \"Physician\",\"Discharge summary\"] # no ECG this time\n",
    "    else:\n",
    "        notes = [\"Nursing/other\", \"Radiology\", \"ECG\", \"Physician\"]\n",
    "    output = np.zeros((len(notes), len(notes)))\n",
    "    result = get_pairwise_results(task, note, period)\n",
    "    for i in range(len(notes)):\n",
    "        for j in range(i, len(notes)):\n",
    "            note_1 = notes[i]\n",
    "            note_2 = notes[j]\n",
    "            if note_1 == note_2: continue\n",
    "\n",
    "            for feature_used in ['notes']: # , \"all\"\n",
    "                note_id_1 = str(note2id[note_1])\n",
    "                note_id_2 = str(note2id[note_2])\n",
    "                pr_note1 = result[note_id_1+\"_\"+note_id_2].iloc[0]\n",
    "                pr_note2 = result[note_id_1+\"_\"+note_id_2].iloc[1]\n",
    "                #print(tmp_test)\n",
    "                for model in ['logistic_regression']: #, 'GRU-D', 'DeepAverageNetwork'\n",
    "                    output[i,j] = pr_note1 - pr_note2\n",
    "                    output[j,i] = pr_note2 - pr_note1\n",
    "\n",
    "\n",
    "    #f, axes = plt.subplots(len(output.keys()), figsize=(7, 7), sharex=True)\n",
    "    #num_col = len(periods)*2*2\n",
    "    i=0\n",
    "    note_tick = [n[0] for n in notes]\n",
    "    model_name = {'logistic_regression':\"LR\", 'DeepAverageNetwork':\"DAN\", 'GRU-D':\"GRU-D\"}\n",
    "\n",
    "    fig, ax = plt.subplots()\n",
    "    title = f\"LR\\\\\\\\notes\\\\_{period}\\\\_PR-AUC\"\n",
    "    #ax.set_title(title, loc='center')\n",
    "    ax = sns.heatmap(output, ax=ax,\\\n",
    "                                  center=0, cmap=\"RdBu\",vmin=vmin, vmax=vmax, xticklabels=note_tick, yticklabels=note_tick, square=True)\n",
    "\n",
    "    file_name = f\"pairwise_{task}_LR_notes_{period}_PR-AUC.pdf\"\n",
    "    plt.tight_layout()\n",
    "    if not os.path.exists(os.path.join('figure/',task)):\n",
    "        os.mkdir(os.path.join('figure/',task))\n",
    "    fig.savefig(os.path.join('figure/',task,file_name))\n"
   ]
  },
  {
   "cell_type": "code",
   "execution_count": 29,
   "metadata": {},
   "outputs": [
    {
     "data": {
      "image/png": "[encoded data removed]",
      "text/plain": [
       "<Figure size 432x288 with 2 Axes>"
      ]
     },
     "metadata": {},
     "output_type": "display_data"
    }
   ],
   "source": [
    "plot_save_pairwise_heatmap('readmission', 'all',  vmin=-0.1, vmax=0.1)"
   ]
  },
  {
   "cell_type": "code",
   "execution_count": 28,
   "metadata": {},
   "outputs": [
    {
     "data": {
      "image/png": "[encoded data removed]",
      "text/plain": [
       "<Figure size 432x288 with 2 Axes>"
      ]
     },
     "metadata": {},
     "output_type": "display_data"
    }
   ],
   "source": [
    "plot_save_pairwise_heatmap('mortality', 'all_but_discharge',  vmin=-0.1, vmax=0.1)"
   ]
  },
  {
   "cell_type": "code",
   "execution_count": null,
   "metadata": {},
   "outputs": [],
   "source": []
  }
 ],
 "metadata": {
  "kernelspec": {
   "display_name": "Python 3",
   "language": "python",
   "name": "python3"
  },
  "language_info": {
   "codemirror_mode": {
    "name": "ipython",
    "version": 3
   },
   "file_extension": ".py",
   "mimetype": "text/x-python",
   "name": "python",
   "nbconvert_exporter": "python",
   "pygments_lexer": "ipython3",
   "version": "3.7.9"
  }
 },
 "nbformat": 4,
 "nbformat_minor": 4
}
